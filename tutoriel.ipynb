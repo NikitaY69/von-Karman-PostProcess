{
 "cells": [
  {
   "cell_type": "code",
   "execution_count": null,
   "id": "3d831c31",
   "metadata": {},
   "outputs": [],
   "source": [
    "import sys\n",
    "sys.path.append('/mnt/beegfs/home/allaglo/sfemans_ai/nikita/von-karman-postprocess/source')\n",
    "from database import Database\n",
    "from stats import Stats \n",
    "import numpy as np\n",
    "import dask.array as da\n",
    "import cupy as cp\n",
    "\n",
    "raw = '/mnt/beegfs/home/allaglo/sfemans_ai/data_hugues_Re_6000_anticontra/'\n",
    "target = '/mnt/beegfs/home/allaglo/sfemans_ai/nikita/connectors/hugues/'\n",
    "dic = 'data_hugues.pkl'\n",
    "\n",
    "pp = Stats(target+dic)\n",
    "data = pp.db"
   ]
  },
  {
   "cell_type": "code",
   "execution_count": null,
   "id": "bed6d321",
   "metadata": {},
   "outputs": [],
   "source": [
    "u = data['u']['field']"
   ]
  },
  {
   "cell_type": "code",
   "execution_count": null,
   "id": "83fc0553",
   "metadata": {},
   "outputs": [],
   "source": [
    "u = u.rechunk((3, 28, 509, 732018//16))"
   ]
  },
  {
   "cell_type": "code",
   "execution_count": null,
   "id": "45a6e770",
   "metadata": {},
   "outputs": [],
   "source": [
    "u_c = u[:, [0], :, :]\n",
    "u_c = u_c[:, :, [0], :]"
   ]
  },
  {
   "cell_type": "code",
   "execution_count": null,
   "id": "84b32402",
   "metadata": {},
   "outputs": [],
   "source": [
    "u_c = u_c.compute()"
   ]
  },
  {
   "cell_type": "code",
   "execution_count": null,
   "id": "8fa399a1",
   "metadata": {},
   "outputs": [],
   "source": [
    "data['D001_DR']['field']"
   ]
  },
  {
   "cell_type": "code",
   "execution_count": null,
   "id": "53b6635f",
   "metadata": {},
   "outputs": [],
   "source": []
  }
 ],
 "metadata": {
  "kernelspec": {
   "display_name": "Python 3 (ipykernel)",
   "language": "python",
   "name": "python3"
  },
  "language_info": {
   "codemirror_mode": {
    "name": "ipython",
    "version": 3
   },
   "file_extension": ".py",
   "mimetype": "text/x-python",
   "name": "python",
   "nbconvert_exporter": "python",
   "pygments_lexer": "ipython3",
   "version": "3.8.16"
  }
 },
 "nbformat": 4,
 "nbformat_minor": 5
}
