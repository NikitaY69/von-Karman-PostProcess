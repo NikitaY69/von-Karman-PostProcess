{
 "cells": [
  {
   "cell_type": "code",
   "execution_count": null,
   "id": "28a2afa8",
   "metadata": {},
   "outputs": [],
   "source": [
    "import sys\n",
    "sys.path.append('/mnt/beegfs/home/allaglo/sfemans_ai/nikita/von-karman-postprocess/source')\n",
    "from database import Database \n",
    "from stats import Stats \n",
    "import dask.array as da\n",
    "import numpy as np"
   ]
  },
  {
   "cell_type": "markdown",
   "id": "cf52ae9b",
   "metadata": {},
   "source": [
    "# Building a database\n",
    "\n",
    "The SFEMaNS data I based all my work upon is located in the following directory on **Lab-IA**:\n",
    "\n",
    "<code>/mnt/beegfs/home/allaglo/sfemans_ai/data_hugues_Re_6000_anticontra</code>\n",
    "\n",
    "We thereafter show how to construct the database with the Database class"
   ]
  },
  {
   "cell_type": "code",
   "execution_count": null,
   "id": "cd79881f",
   "metadata": {},
   "outputs": [],
   "source": [
    "source = '/mnt/beegfs/home/allaglo/sfemans_ai/data_hugues_Re_6000_anticontra/' \n",
    "sfx = 'tfin_374p8/'\n",
    "target = '/mnt/beegfs/home/allaglo/sfemans_ai/nikita/connectors/hugues/'       # \n",
    "# M = 255                                                                        # number of fourier modes\n",
    "dic = 'data_hugues.pkl'                                                        # name of the created dictionnary\n",
    "# db = Database(source, sfx=sfx, target=target, M=M, dic=dic, space='phys')"
   ]
  },
  {
   "cell_type": "code",
   "execution_count": null,
   "id": "0da83266",
   "metadata": {},
   "outputs": [],
   "source": [
    "pp = Stats(target+dic)\n",
    "data = pp.db"
   ]
  },
  {
   "cell_type": "code",
   "execution_count": null,
   "id": "b38b1026",
   "metadata": {},
   "outputs": [],
   "source": [
    "data"
   ]
  },
  {
   "cell_type": "code",
   "execution_count": null,
   "id": "37ea1f71",
   "metadata": {},
   "outputs": [],
   "source": [
    "data.keys()"
   ]
  },
  {
   "cell_type": "code",
   "execution_count": null,
   "id": "aba6d7a3",
   "metadata": {},
   "outputs": [],
   "source": [
    "u = data['u']['field']"
   ]
  },
  {
   "cell_type": "code",
   "execution_count": null,
   "id": "939c40c3",
   "metadata": {},
   "outputs": [],
   "source": [
    "u_norm = pp.norm(u[:, [0], :, :])"
   ]
  },
  {
   "cell_type": "code",
   "execution_count": null,
   "id": "53ceb72a",
   "metadata": {},
   "outputs": [],
   "source": [
    "u_norm.compute()"
   ]
  },
  {
   "cell_type": "code",
   "execution_count": null,
   "id": "52dd2a70",
   "metadata": {},
   "outputs": [],
   "source": [
    "u_c = u[:, [0], :, :].compute()"
   ]
  },
  {
   "cell_type": "code",
   "execution_count": null,
   "id": "3a265f60",
   "metadata": {},
   "outputs": [],
   "source": [
    "pp.norm(u_c)"
   ]
  },
  {
   "cell_type": "code",
   "execution_count": null,
   "id": "34fb11ce",
   "metadata": {},
   "outputs": [],
   "source": []
  }
 ],
 "metadata": {
  "kernelspec": {
   "display_name": "Python 3 (ipykernel)",
   "language": "python",
   "name": "python3"
  },
  "language_info": {
   "codemirror_mode": {
    "name": "ipython",
    "version": 3
   },
   "file_extension": ".py",
   "mimetype": "text/x-python",
   "name": "python",
   "nbconvert_exporter": "python",
   "pygments_lexer": "ipython3",
   "version": "3.8.16"
  }
 },
 "nbformat": 4,
 "nbformat_minor": 5
}
